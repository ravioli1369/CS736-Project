{
 "cells": [
  {
   "cell_type": "code",
   "execution_count": 3,
   "metadata": {},
   "outputs": [],
   "source": [
    "import os\n",
    "import numpy as np\n",
    "import matplotlib.pyplot as plt\n",
    "from glob import glob\n",
    "from PIL import Image"
   ]
  },
  {
   "cell_type": "code",
   "execution_count": 45,
   "metadata": {},
   "outputs": [],
   "source": [
    "def create_array_with_zeros(n, hole_ratio, number_of_holes=1):\n",
    "   # Create an array of ones\n",
    "   arr = np.ones((n, n))\n",
    "   \n",
    "   # Calculate the size of the square containing zeros\n",
    "   zero_size = n // hole_ratio\n",
    "   \n",
    "   for _ in range(number_of_holes):\n",
    "      # Generate random coordinates for the top-left corner of the zero square\n",
    "      start_row = np.random.randint(0, n - zero_size + 1)\n",
    "      start_col = np.random.randint(0, n - zero_size + 1)\n",
    "   \n",
    "      # Set the values in the zero square region to zeros\n",
    "      arr[start_row:start_row + zero_size, start_col:start_col + zero_size] = 0\n",
    "\n",
    "   return arr\n",
    "\n",
    "def create_strip_mask(n, thickness, orientation=None, number=1):\n",
    "   # Create an array of ones\n",
    "   arr = np.ones((n, n))\n",
    "   for _ in range(number):\n",
    "      if orientation == 'H':\n",
    "         start_row = np.random.randint(0, n-thickness+1)\n",
    "         arr[start_row:start_row+thickness, :] = 0\n",
    "      elif orientation == 'V':\n",
    "         start_col = np.random.randint(0, n-thickness+1)\n",
    "         arr[:, start_col:start_col+thickness] = 0\n",
    "      else:\n",
    "         coin_flip = bool(np.random.randint(0,2))\n",
    "         if coin_flip:\n",
    "            start_row = np.random.randint(0, n-thickness+1)\n",
    "            arr[start_row:start_row+thickness, :] = 0\n",
    "         else:\n",
    "            start_col = np.random.randint(0, n-thickness+1)\n",
    "            arr[:, start_col:start_col+thickness] = 0\n",
    "   return arr"
   ]
  },
  {
   "cell_type": "code",
   "execution_count": 5,
   "metadata": {},
   "outputs": [],
   "source": [
    "# # resizing the input images\n",
    "# images = glob('data/covid-chestxray-dataset/images/*')\n",
    "# for image in images:\n",
    "#     im = Image.open(image)\n",
    "#     im = im.resize((256, 256))\n",
    "#     im = im.convert('L')\n",
    "#     im = np.array(im)\n",
    "#     np.save(os.path.dirname(os.path.dirname(image))+'/resized/'+os.path.basename(image), im)"
   ]
  },
  {
   "cell_type": "code",
   "execution_count": 46,
   "metadata": {},
   "outputs": [],
   "source": [
    "size = 256\n",
    "number_of_strips = 1\n",
    "num_masks = 2000\n",
    "for i in range(num_masks):\n",
    "   my_mask = create_strip_mask(size, 10, 'H')\n",
    "   if number_of_strips == 1:\n",
    "      os.makedirs(f'data/covid-chestxray-dataset/resized/masks/{number_of_strips}_strip/', exist_ok=True)\n",
    "      np.save(f'data/covid-chestxray-dataset/resized/masks/{number_of_strips}_strip/{i}', my_mask)\n",
    "   else:\n",
    "      os.makedirs(f'data/covid-chestxray-dataset/resized/masks/{number_of_strips}_strips/', exist_ok=True)\n",
    "      np.save(f'data/covid-chestxray-dataset/resized/masks/{number_of_strips}_strips/{i}', my_mask)"
   ]
  },
  {
   "cell_type": "code",
   "execution_count": 7,
   "metadata": {},
   "outputs": [],
   "source": [
    "size = 256\n",
    "hole_ratio = 8\n",
    "number_of_holes = 1\n",
    "num_masks = 2000\n",
    "for i in range(num_masks):\n",
    "   my_mask = create_array_with_zeros(size, hole_ratio, number_of_holes)\n",
    "   if number_of_holes == 1:\n",
    "      os.makedirs(f'data/covid-chestxray-dataset/resized/masks/{number_of_holes}_hole/', exist_ok=True)\n",
    "      np.save(f'data/covid-chestxray-dataset/resized/masks/{number_of_holes}_hole/{i}', my_mask)\n",
    "   else:\n",
    "      os.makedirs(f'data/covid-chestxray-dataset/resized/masks/{number_of_holes}_holes/', exist_ok=True)\n",
    "      np.save(f'data/covid-chestxray-dataset/resized/masks/{number_of_holes}_holes/{i}', my_mask)"
   ]
  },
  {
   "cell_type": "code",
   "execution_count": 7,
   "metadata": {},
   "outputs": [
    {
     "data": {
      "text/plain": [
       "84"
      ]
     },
     "execution_count": 7,
     "metadata": {},
     "output_type": "execute_result"
    }
   ],
   "source": [
    "np.random.randint(0,100)"
   ]
  },
  {
   "cell_type": "code",
   "execution_count": null,
   "metadata": {},
   "outputs": [],
   "source": []
  }
 ],
 "metadata": {
  "kernelspec": {
   "display_name": "growth",
   "language": "python",
   "name": "python3"
  },
  "language_info": {
   "codemirror_mode": {
    "name": "ipython",
    "version": 3
   },
   "file_extension": ".py",
   "mimetype": "text/x-python",
   "name": "python",
   "nbconvert_exporter": "python",
   "pygments_lexer": "ipython3",
   "version": "3.12.3"
  }
 },
 "nbformat": 4,
 "nbformat_minor": 2
}
