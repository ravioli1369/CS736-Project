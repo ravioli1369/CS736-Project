{
 "cells": [
  {
   "cell_type": "code",
   "execution_count": 15,
   "metadata": {},
   "outputs": [],
   "source": [
    "import numpy as np\n",
    "from skimage.metrics import structural_similarity"
   ]
  },
  {
   "cell_type": "code",
   "execution_count": 42,
   "metadata": {},
   "outputs": [],
   "source": [
    "def calculate_ssim(ground_truth, prediction, mask):\n",
    "    # Compute SSIM between two images only in the masked region\n",
    "    # masked_ground_truth = ground_truth * mask\n",
    "    # score_baseline = structural_similarity(masked_ground_truth, ground_truth,  data_range=np.max(ground_truth) - np.min(ground_truth))\n",
    "    ground_truth = ground_truth[np.where(mask==0)]\n",
    "    prediction = prediction[np.where(mask==0)]\n",
    "    score = structural_similarity(ground_truth, prediction, data_range=np.max(prediction) - np.min(prediction))\n",
    "    # normalized_score = (score-score_baseline)/(1-score_baseline)\n",
    "    return score\n",
    "\n",
    "def calculate_psnr(ground_truth, prediction, mask):\n",
    "    # Compute PSNR between two images only in the masked region\n",
    "    ground_truth = ground_truth[np.where(mask==0)]\n",
    "    prediction = prediction[np.where(mask==0)]\n",
    "    mse = np.mean((ground_truth - prediction) ** 2)\n",
    "    if mse == 0:\n",
    "        return 100\n",
    "    max_pixel = np.max(prediction)\n",
    "    psnr = 20 * np.log10(max_pixel / np.sqrt(mse))\n",
    "    return psnr\n",
    "\n",
    "def calculate_rmse(ground_truth, prediction, mask):\n",
    "    # Compute RMSE between two images only in the masked region\n",
    "    ground_truth = ground_truth[np.where(mask==0)]\n",
    "    prediction = prediction[np.where(mask==0)]\n",
    "    rmse = np.sqrt(np.mean((ground_truth - prediction) ** 2))\n",
    "    return rmse"
   ]
  },
  {
   "cell_type": "code",
   "execution_count": 43,
   "metadata": {},
   "outputs": [
    {
     "data": {
      "text/plain": [
       "97.75293713618021"
      ]
     },
     "execution_count": 43,
     "metadata": {},
     "output_type": "execute_result"
    }
   ],
   "source": [
    "image = np.load(\"data/covid-chestxray-dataset/resized/0a7faa2a.npy\")\n",
    "mask = np.load(\"data/covid-chestxray-dataset/resized/masks/1_hole/0a7faa2a_mask.npy\")\n",
    "\n",
    "calculate_rmse(image*mask, image, mask)"
   ]
  }
 ],
 "metadata": {
  "kernelspec": {
   "display_name": "Python 3",
   "language": "python",
   "name": "python3"
  },
  "language_info": {
   "codemirror_mode": {
    "name": "ipython",
    "version": 3
   },
   "file_extension": ".py",
   "mimetype": "text/x-python",
   "name": "python",
   "nbconvert_exporter": "python",
   "pygments_lexer": "ipython3",
   "version": "3.11.8"
  }
 },
 "nbformat": 4,
 "nbformat_minor": 2
}
