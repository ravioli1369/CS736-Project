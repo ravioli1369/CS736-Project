{
 "cells": [
  {
   "cell_type": "code",
   "execution_count": 33,
   "metadata": {},
   "outputs": [],
   "source": [
    "import os\n",
    "import numpy as np\n",
    "import matplotlib.pyplot as plt\n",
    "from glob import glob\n",
    "from PIL import Image"
   ]
  },
  {
   "cell_type": "code",
   "execution_count": 13,
   "metadata": {},
   "outputs": [
    {
     "data": {
      "text/plain": [
       "<matplotlib.image.AxesImage at 0x71fb38d55a80>"
      ]
     },
     "execution_count": 13,
     "metadata": {},
     "output_type": "execute_result"
    },
    {
     "data": {
      "image/png": "[encoded data removed]",
      "text/plain": [
       "<Figure size 640x480 with 1 Axes>"
      ]
     },
     "metadata": {},
     "output_type": "display_data"
    }
   ],
   "source": [
    "def create_array_with_zeros(n, hole_ratio, number_of_holes=1):\n",
    "   # Create an array of ones\n",
    "   arr = np.ones((n, n))\n",
    "   \n",
    "   # Calculate the size of the square containing zeros\n",
    "   zero_size = n // hole_ratio\n",
    "   \n",
    "   for _ in range(number_of_holes):\n",
    "      # Generate random coordinates for the top-left corner of the zero square\n",
    "      start_row = np.random.randint(0, n - zero_size + 1)\n",
    "      start_col = np.random.randint(0, n - zero_size + 1)\n",
    "   \n",
    "      # Set the values in the zero square region to zeros\n",
    "      arr[start_row:start_row + zero_size, start_col:start_col + zero_size] = 0\n",
    "\n",
    "   return arr\n",
    "\n",
    "\n",
    "\n",
    "output = []\n",
    "\n",
    "for _ in range(num_masks):\n",
    "   my_mask = create_array_with_zeros(size, hole_ratio)\n",
    "   output.append(my_mask)\n",
    "\n",
    "\n",
    "output = np.array(output)\n",
    "\n",
    "plt.imshow(output[0], cmap='gray')"
   ]
  },
  {
   "cell_type": "code",
   "execution_count": 44,
   "metadata": {},
   "outputs": [],
   "source": [
    "images = glob('data/covid-chestxray-dataset/resized/*')\n",
    "size = 512\n",
    "hole_ratio = 4\n",
    "num_masks = 10\n",
    "for image in images:\n",
    "   # if image not in resized:\n",
    "   #    os.remove(image)\n",
    "   # im = Image.open(image)\n",
    "   # im = im.resize((512, 512))\n",
    "   # im = im.convert('L')\n",
    "   # im.save(os.path.dirname(image)+'/resized/'+os.path.basename(image))\n"
   ]
  }
 ],
 "metadata": {
  "kernelspec": {
   "display_name": "growth",
   "language": "python",
   "name": "python3"
  },
  "language_info": {
   "codemirror_mode": {
    "name": "ipython",
    "version": 3
   },
   "file_extension": ".py",
   "mimetype": "text/x-python",
   "name": "python",
   "nbconvert_exporter": "python",
   "pygments_lexer": "ipython3",
   "version": "3.10.12"
  }
 },
 "nbformat": 4,
 "nbformat_minor": 2
}
